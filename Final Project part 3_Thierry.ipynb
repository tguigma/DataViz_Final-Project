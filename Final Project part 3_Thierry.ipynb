{
 "cells": [
  {
   "cell_type": "code",
   "execution_count": 26,
   "metadata": {},
   "outputs": [
    {
     "data": {
      "application/vnd.jupyter.widget-view+json": {
       "model_id": "35a2d30d492949838914fa6816919be3",
       "version_major": 2,
       "version_minor": 0
      },
      "text/plain": [
       "VBox(children=(Label(value=''), Figure(axes=[ColorAxis(orientation='vertical', scale=ColorScale(scheme='RdPu')…"
      ]
     },
     "metadata": {},
     "output_type": "display_data"
    }
   ],
   "source": [
    "import pandas as pd\n",
    "import numpy as np\n",
    "import bqplot\n",
    "import ipywidgets\n",
    "data = pd.read_csv('C:/Users/Thierry Guigma/Desktop/UIUC/Data visualization/Assignments/Directory/LeadF.csv')\n",
    "\n",
    "x=data['county']\n",
    "y=data['Year']\n",
    "z=data['lscore']\n",
    "\n",
    "# We will consider their unique names:\n",
    "xnames = x.unique()\n",
    "ynames = y.unique()\n",
    "znames = np.zeros([len(xnames),len(ynames)])\n",
    "\n",
    "# We fill the data\n",
    "for i,xn in enumerate(xnames):\n",
    "    for j, yn in enumerate(ynames):\n",
    "        mask = (x == xn) & (y == yn)\n",
    "        znames[i,j] = z[mask].sum()\n",
    "\n",
    "col_sc = bqplot.ColorScale(scheme='RdPu')\n",
    "x_sc = bqplot.OrdinalScale()\n",
    "y_sc = bqplot.OrdinalScale()\n",
    "\n",
    "\n",
    "c_ax = bqplot.ColorAxis(scale = col_sc, \n",
    "                        orientation = 'vertical', \n",
    "                        side = 'right')\n",
    "\n",
    "x_ax = bqplot.Axis(scale = x_sc, \n",
    "                  tick_rotate=60, \n",
    "                   tick_style={'font-size':'10px'})\n",
    "y_ax = bqplot.Axis(scale = y_sc, \n",
    "                   orientation = 'vertical', tick_rotate=30,  tick_style={'font-size':'10px'})\n",
    "\n",
    "    \n",
    "HM = bqplot.GridHeatMap(color = znames,\n",
    "                              row = xnames, \n",
    "                              column = ynames,\n",
    "                              scales = {'color': col_sc,\n",
    "                                        'row': y_sc,\n",
    "                                        'column': x_sc},\n",
    "                              interactions = {'click': 'select'},\n",
    "                              anchor_style = {'fill':'blue'}, \n",
    "                              selected_style = {'opacity': 1.0},\n",
    "                              unselected_style = {'opacity': 1.0})\n",
    "\n",
    "fig = bqplot.Figure(marks = [HM], axes = [c_ax, y_ax, x_ax])\n",
    "#fig\n",
    "\n",
    "mySelectedLabel = ipywidgets.Label()\n",
    "\n",
    "def get_data_value(change):\n",
    "    i,j = change['owner'].selected[0]\n",
    "    v = znames[i,j] \n",
    "    mySelectedLabel.value = 'Lead concentration score : ' + str(v)\n",
    "\n",
    "###\n",
    "HM.observe(get_data_value, 'selected')\n",
    "\n",
    "fig.layout.min_width = '900px'\n",
    "fig.layout.min_height= '1250px'\n",
    "\n",
    "ipywidgets.VBox([mySelectedLabel, fig])\n",
    "#fig"
   ]
  },
  {
   "cell_type": "code",
   "execution_count": null,
   "metadata": {},
   "outputs": [],
   "source": []
  },
  {
   "cell_type": "code",
   "execution_count": null,
   "metadata": {},
   "outputs": [],
   "source": []
  }
 ],
 "metadata": {
  "kernelspec": {
   "display_name": "Python 3",
   "language": "python",
   "name": "python3"
  },
  "language_info": {
   "codemirror_mode": {
    "name": "ipython",
    "version": 3
   },
   "file_extension": ".py",
   "mimetype": "text/x-python",
   "name": "python",
   "nbconvert_exporter": "python",
   "pygments_lexer": "ipython3",
   "version": "3.7.1"
  }
 },
 "nbformat": 4,
 "nbformat_minor": 2
}
